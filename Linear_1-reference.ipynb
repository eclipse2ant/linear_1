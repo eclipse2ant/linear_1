{
 "cells": [
  {
   "cell_type": "markdown",
   "metadata": {},
   "source": [
    "# 参考文献"
   ]
  },
  {
   "cell_type": "markdown",
   "metadata": {},
   "source": [
    "## 参考にしている本"
   ]
  },
  {
   "cell_type": "markdown",
   "metadata": {},
   "source": [
    "#### 線形代数および数学の本"
   ]
  },
  {
   "cell_type": "markdown",
   "metadata": {},
   "source": [
    "- [線型代数学(新装版) (数学選書)佐武一郎著](https://www.amazon.co.jp/%E7%B7%9A%E5%9E%8B%E4%BB%A3%E6%95%B0%E5%AD%A6-%E6%96%B0%E8%A3%85%E7%89%88-%E6%95%B0%E5%AD%A6%E9%81%B8%E6%9B%B8-%E4%BD%90%E6%AD%A6-%E4%B8%80%E9%83%8E/dp/4785313161/ref=sr_1_3?__mk_ja_JP=%E3%82%AB%E3%82%BF%E3%82%AB%E3%83%8A&dchild=1&keywords=%E7%B7%9A%E5%BD%A2%E4%BB%A3%E6%95%B0%E5%AD%A6&qid=1601732185&sr=8-3)　　線形代数の名著といわれる本です、ただし線形空間の定義をこの本で探すのは至難の業です。"
   ]
  },
  {
   "cell_type": "markdown",
   "metadata": {},
   "source": [
    "-  [線形代数の世界―抽象数学の入り口 (大学数学の入門) 斎藤　毅著](https://www.amazon.co.jp/%E7%B7%9A%E5%BD%A2%E4%BB%A3%E6%95%B0%E3%81%AE%E4%B8%96%E7%95%8C%E2%80%95%E6%8A%BD%E8%B1%A1%E6%95%B0%E5%AD%A6%E3%81%AE%E5%85%A5%E3%82%8A%E5%8F%A3-%E5%A4%A7%E5%AD%A6%E6%95%B0%E5%AD%A6%E3%81%AE%E5%85%A5%E9%96%80-%E6%96%8E%E8%97%A4-%E6%AF%85/dp/4130629573/ref=sr_1_3?__mk_ja_JP=%E3%82%AB%E3%82%BF%E3%82%AB%E3%83%8A&dchild=1&keywords=%E7%B7%9A%E5%BD%A2%E4%BB%A3%E6%95%B0+%E6%96%8E%E8%97%A4&qid=1601732588&sr=8-3)　　現代的な書き方がされていてとても読みやすい本です。"
   ]
  },
  {
   "cell_type": "markdown",
   "metadata": {},
   "source": [
    "- [代数入門: 群と加群 (数学シリーズ) 堀田 良之著](https://www.amazon.co.jp/%E4%BB%A3%E6%95%B0%E5%85%A5%E9%96%80%E2%80%95%E7%BE%A4%E3%81%A8%E5%8A%A0%E7%BE%A4-%E6%95%B0%E5%AD%A6%E3%82%B7%E3%83%AA%E3%83%BC%E3%82%BA-%E5%A0%80%E7%94%B0-%E8%89%AF%E4%B9%8B/dp/4785314028/ref=sr_1_1?__mk_ja_JP=%E3%82%AB%E3%82%BF%E3%82%AB%E3%83%8A&crid=2XP1TXNJLES5C&dchild=1&keywords=%E4%BB%A3%E6%95%B0%E5%85%A5%E9%96%80+%E7%BE%A4%E3%81%A8%E5%8A%A0%E7%BE%A4&qid=1601732830&sprefix=%E4%BB%A3%E6%95%B0%E5%85%A5%E9%96%80%E3%80%80%2Caps%2C266&sr=8-1)"
   ]
  },
  {
   "cell_type": "markdown",
   "metadata": {},
   "source": [
    "- [リー群の話 (日評数学選書) 佐武 一郎著](https://www.amazon.co.jp/%E3%83%AA%E3%83%BC%E7%BE%A4%E3%81%AE%E8%A9%B1-%E6%97%A5%E8%A9%95%E6%95%B0%E5%AD%A6%E9%81%B8%E6%9B%B8-%E4%BD%90%E6%AD%A6-%E4%B8%80%E9%83%8E/dp/4535601100/ref=sr_1_1?__mk_ja_JP=%E3%82%AB%E3%82%BF%E3%82%AB%E3%83%8A&crid=11V9LQDM8Q1QA&dchild=1&keywords=%E3%83%AA%E3%83%BC%E7%BE%A4%E3%81%AE%E8%A9%B1&qid=1601733059&sprefix=%E3%83%AA%E3%83%BC%E7%BE%A4%E3%81%AE%2Caps%2C258&sr=8-1)  テンソルや双対空間の解説がやさしい"
   ]
  },
  {
   "cell_type": "markdown",
   "metadata": {},
   "source": [
    "- [Pythonで学ぶ線形代数学](https://www.amazon.co.jp/Python%E3%81%A7%E5%AD%A6%E3%81%B6%E7%B7%9A%E5%BD%A2%E4%BB%A3%E6%95%B0%E5%AD%A6-%E5%A1%9A%E7%94%B0-%E7%9C%9F/dp/427422533X/ref=sr_1_1?__mk_ja_JP=%E3%82%AB%E3%82%BF%E3%82%AB%E3%83%8A&dchild=1&keywords=Python%E3%81%A7%E5%AD%A6%E3%81%B6%E7%B7%9A%E5%BD%A2%E4%BB%A3%E6%95%B0&qid=1601733348&sr=8-1)  Jupyter notebook を使い、Pythonで実際にいろんな例を計算しながら学ぶ本です。"
   ]
  },
  {
   "cell_type": "markdown",
   "metadata": {},
   "source": [
    "- [集合と位相 (大学数学の入門) 斎藤 毅著](https://www.amazon.co.jp/s?k=%E9%9B%86%E5%90%88%E3%81%A8%E4%BD%8D%E7%9B%B8+%E6%96%8E%E8%97%A4&__mk_ja_JP=%E3%82%AB%E3%82%BF%E3%82%AB%E3%83%8A&ref=nb_sb_noss_2)  　位相空間の本です。数論幾何の専門家の書いた位相空間論で代数幾何や圏論を考慮に入れた書き型をしている本です。"
   ]
  },
  {
   "cell_type": "markdown",
   "metadata": {},
   "source": [
    "#### Python, Jupyter Notebook, GitHub, データサイエンス　などの本"
   ]
  },
  {
   "cell_type": "markdown",
   "metadata": {},
   "source": [
    "- [はじめてのGoogle Classroom の教科書2020 Google アプリの教科書シリーズ2020年版](https://www.amazon.co.jp/%E3%81%AF%E3%81%98%E3%82%81%E3%81%A6%E3%81%AEGoogle-Classroom-%E3%81%AE%E6%95%99%E7%A7%91%E6%9B%B82020-Google-%E3%82%A2%E3%83%97%E3%83%AA%E3%81%AE%E6%95%99%E7%A7%91%E6%9B%B8%E3%82%B7%E3%83%AA%E3%83%BC%E3%82%BA2020%E5%B9%B4%E7%89%88-ebook/dp/B086TT2CPR)  Google Classroom　の使い方についての本です"
   ]
  },
  {
   "cell_type": "markdown",
   "metadata": {},
   "source": [
    "- [はじめてのGoogle フォームの教科書2020 Google アプリの教科書シリーズ2020年版 ](https://www.amazon.co.jp/gp/product/B086SCVVH9?notRedirectToSDP=1&ref_=dbs_mng_calw_5&storeType=ebooks)  Google Form　についての本です。これは実際、アンケートや小テストなどを実施するのに役立ちます。"
   ]
  },
  {
   "cell_type": "markdown",
   "metadata": {},
   "source": [
    "- [できるGoogle for Education クラウド学習ツール実践ガイド](https://www.amazon.co.jp/%E3%81%A7%E3%81%8D%E3%82%8BGoogle-Education-%E3%82%AF%E3%83%A9%E3%82%A6%E3%83%89%E5%AD%A6%E7%BF%92%E3%83%84%E3%83%BC%E3%83%AB%E5%AE%9F%E8%B7%B5%E3%82%AC%E3%82%A4%E3%83%89-%E3%81%A7%E3%81%8D%E3%82%8B%E3%82%B7%E3%83%AA%E3%83%BC%E3%82%BA-%E6%A0%AA%E5%BC%8F%E4%BC%9A%E7%A4%BE%E3%82%B9%E3%83%88%E3%83%AA%E3%83%BC%E3%83%88%E3%82%B9%E3%83%9E%E3%83%BC%E3%83%88-ebook/dp/B07YDVB3LY/ref=sr_1_1_sspa?__mk_ja_JP=%E3%82%AB%E3%82%BF%E3%82%AB%E3%83%8A&dchild=1&keywords=%E3%81%A7%E3%81%8D%E3%82%8BGoogle+Education&qid=1601917111&s=digital-text&sr=1-1-spons&psc=1&spLa=ZW5jcnlwdGVkUXVhbGlmaWVyPUFMUDJKUzZGVkVVM0EmZW5jcnlwdGVkSWQ9QTAxNzc1ODIxSEhDSUU0TVNHWFRRJmVuY3J5cHRlZEFkSWQ9QTI1UFQ0N0hPUFlDV1Mmd2lkZ2V0TmFtZT1zcF9hdGYmYWN0aW9uPWNsaWNrUmVkaXJlY3QmZG9Ob3RMb2dDbGljaz10cnVl)  G Suit for Education  に関しての本です。"
   ]
  },
  {
   "cell_type": "markdown",
   "metadata": {},
   "source": [
    "- [PythonユーザのためのJupyter［実践］入門](https://www.amazon.co.jp/Python%E3%83%A6%E3%83%BC%E3%82%B6%E3%81%AE%E3%81%9F%E3%82%81%E3%81%AEJupyter%EF%BC%BB%E5%AE%9F%E8%B7%B5%EF%BC%BD%E5%85%A5%E9%96%80-%E6%B1%A0%E5%86%85-%E5%AD%9D%E5%95%93-ebook/dp/B075F3CHZ4/ref=sr_1_3?__mk_ja_JP=%E3%82%AB%E3%82%BF%E3%82%AB%E3%83%8A&crid=1UHLVPGTNE8WX&dchild=1&keywords=jupyter+%E5%AE%9F%E8%B7%B5&qid=1601917408&sprefix=Jupyter+ji%2Caps%2C228&sr=8-3) 授業資料は、Jupyter Notebook で書いて、それをGitHubに登録しています。データサイエンスをPythonに行う際にもこの本は役に立ちます。"
   ]
  },
  {
   "cell_type": "markdown",
   "metadata": {},
   "source": [
    "- [GitHub実践入門 ~Pull Requestによる開発の変革 (WEB+DB PRESS plus)](https://www.amazon.co.jp/GitHub%E5%AE%9F%E8%B7%B5%E5%85%A5%E9%96%80-Pull-Request%E3%81%AB%E3%82%88%E3%82%8B%E9%96%8B%E7%99%BA%E3%81%AE%E5%A4%89%E9%9D%A9-PRESS-plus/dp/477416366X/ref=sr_1_1?__mk_ja_JP=%E3%82%AB%E3%82%BF%E3%82%AB%E3%83%8A&crid=QDUIBC3TXIC0&dchild=1&keywords=github%E5%AE%9F%E8%B7%B5%E5%85%A5%E9%96%80&qid=1601917634&sprefix=Github%2Caps%2C245&sr=8-1)  Git および GitHub  について書かれててる本です。GitはLinux の作者　Linus氏が作ったバージョン管理ソフト。**TED**でも本人が話してました。GitHubはGitの内容を互いにアップすることでSNSみたいな感覚でコミュニケートする場所です。"
   ]
  },
  {
   "cell_type": "markdown",
   "metadata": {},
   "source": [
    "- [Zoomオンライン革命!](https://www.amazon.co.jp/Zoom%E3%82%AA%E3%83%B3%E3%83%A9%E3%82%A4%E3%83%B3%E9%9D%A9%E5%91%BD-%E7%94%B0%E5%8E%9F%E7%9C%9F%E4%BA%BA/dp/4798049352/ref=sr_1_1?__mk_ja_JP=%E3%82%AB%E3%82%BF%E3%82%AB%E3%83%8A&crid=320CE7CQ54M19&dchild=1&keywords=zoom+%E3%82%AA%E3%83%B3%E3%83%A9%E3%82%A4%E3%83%B3%E9%9D%A9%E5%91%BD&qid=1601917948&sprefix=Zoom+o%2Caps%2C230&sr=8-1) Zoomに関しての本ですが、同時にオンライン反転学習について書かれてます。この本が書かれた時代よりも、クラウド化が進んでおり、さらにネット上にいろんな情報が今は増えてます。"
   ]
  },
  {
   "cell_type": "markdown",
   "metadata": {},
   "source": [
    "- [データサイエンス教本 Pythonで学ぶ統計分析・パターン認識・深層学習・信号処理・時系列データ分析 ](https://www.amazon.co.jp/%E3%83%87%E3%83%BC%E3%82%BF%E3%82%B5%E3%82%A4%E3%82%A8%E3%83%B3%E3%82%B9%E6%95%99%E6%9C%AC-Python%E3%81%A7%E5%AD%A6%E3%81%B6%E7%B5%B1%E8%A8%88%E5%88%86%E6%9E%90%E3%83%BB%E3%83%91%E3%82%BF%E3%83%BC%E3%83%B3%E8%AA%8D%E8%AD%98%E3%83%BB%E6%B7%B1%E5%B1%A4%E5%AD%A6%E7%BF%92%E3%83%BB%E4%BF%A1%E5%8F%B7%E5%87%A6%E7%90%86%E3%83%BB%E6%99%82%E7%B3%BB%E5%88%97%E3%83%87%E3%83%BC%E3%82%BF%E5%88%86%E6%9E%90-%E6%A9%8B%E6%9C%AC%E6%B4%8B%E5%BF%97-ebook/dp/B07MV4L4CV/ref=sr_1_2?__mk_ja_JP=%E3%82%AB%E3%82%BF%E3%82%AB%E3%83%8A&dchild=1&keywords=%E3%83%87%E3%83%BC%E3%82%BF%E3%82%B5%E3%82%A4%E3%82%A8%E3%83%B3%E3%82%B9%E6%95%99%E6%9C%AC&qid=1601918294&sr=8-2) Python を使ってデータ解析を行うための本、アンケートや小テストの集計や解析に役立ちます。"
   ]
  },
  {
   "cell_type": "markdown",
   "metadata": {},
   "source": [
    "- [みんなのPython 第4版](https://www.amazon.co.jp/%E3%81%BF%E3%82%93%E3%81%AA%E3%81%AEPython-%E7%AC%AC4%E7%89%88-%E6%9F%B4%E7%94%B0-%E6%B7%B3/dp/479738946X/ref=sr_1_1?__mk_ja_JP=%E3%82%AB%E3%82%BF%E3%82%AB%E3%83%8A&dchild=1&keywords=%E3%81%BF%E3%82%93%E3%81%AA%E3%81%AEPython&qid=1601918511&sr=8-1)  Pythonの文法の本です。"
   ]
  },
  {
   "cell_type": "markdown",
   "metadata": {},
   "source": [
    "- [退屈なことはPythonにやらせよう ―ノンプログラマーにもできる自動化処理プログラミング ](https://www.amazon.co.jp/%E9%80%80%E5%B1%88%E3%81%AA%E3%81%93%E3%81%A8%E3%81%AFPython%E3%81%AB%E3%82%84%E3%82%89%E3%81%9B%E3%82%88%E3%81%86-%E2%80%95%E3%83%8E%E3%83%B3%E3%83%97%E3%83%AD%E3%82%B0%E3%83%A9%E3%83%9E%E3%83%BC%E3%81%AB%E3%82%82%E3%81%A7%E3%81%8D%E3%82%8B%E8%87%AA%E5%8B%95%E5%8C%96%E5%87%A6%E7%90%86%E3%83%97%E3%83%AD%E3%82%B0%E3%83%A9%E3%83%9F%E3%83%B3%E3%82%B0-Al-Sweigart/dp/487311778X/ref=sr_1_1?__mk_ja_JP=%E3%82%AB%E3%82%BF%E3%82%AB%E3%83%8A&crid=3P2J9ZN7SOPNJ&dchild=1&keywords=%E9%80%80%E5%B1%88%E3%81%AA%E3%81%93%E3%81%A8%E3%81%AFpython%E3%81%AB%E3%82%84%E3%82%89%E3%81%9B%E3%82%88%E3%81%86&qid=1601918640&sprefix=%E9%80%80%E5%B1%88%2Caps%2C239&sr=8-1) 日常にいろんな処理をPythonで自動化してくれます。第２版は原書は出ており、その日本語訳はもうすぐ出るみたいです。"
   ]
  },
  {
   "cell_type": "markdown",
   "metadata": {},
   "source": [
    "- [詳解！ Google Apps Script完全入門 ～Google Apps & G Suiteの最新プログラミングガイド](https://www.amazon.co.jp/Google-Apps-Script%E5%AE%8C%E5%85%A8%E5%85%A5%E9%96%80-%EF%BD%9EGoogle-Suite%E3%81%AE%E6%9C%80%E6%96%B0%E3%83%97%E3%83%AD%E3%82%B0%E3%83%A9%E3%83%9F%E3%83%B3%E3%82%B0%E3%82%AC%E3%82%A4%E3%83%89%EF%BD%9E-ebook/dp/B07BNB1Z9L/ref=sr_1_1_sspa?__mk_ja_JP=%E3%82%AB%E3%82%BF%E3%82%AB%E3%83%8A&crid=1CSKHXANIOKSW&dchild=1&keywords=google+apps+script+%E5%AE%8C%E5%85%A8%E5%85%A5%E9%96%80&qid=1601920492&sprefix=Google+Apps%2Caps%2C234&sr=8-1-spons&psc=1&spLa=ZW5jcnlwdGVkUXVhbGlmaWVyPUExTzNNVUJHQTZCNlVaJmVuY3J5cHRlZElkPUEwMTAwMzA2MjdMWDBSWk5COVpBVyZlbmNyeXB0ZWRBZElkPUFaT0kxNlJZVENHSkkmd2lkZ2V0TmFtZT1zcF9hdGYmYWN0aW9uPWNsaWNrUmVkaXJlY3QmZG9Ob3RMb2dDbGljaz10cnVl)  Google Apps Script は　Googleのアプリをいろいろ自動化してくれます。ExcelのVBAのGoogle版ででもあり、さらにオブジェクト指向が使える（JavaScript ベースで開発されてる)。"
   ]
  },
  {
   "cell_type": "code",
   "execution_count": null,
   "metadata": {},
   "outputs": [],
   "source": []
  }
 ],
 "metadata": {
  "kernelspec": {
   "display_name": "Python 3",
   "language": "python",
   "name": "python3"
  },
  "language_info": {
   "codemirror_mode": {
    "name": "ipython",
    "version": 3
   },
   "file_extension": ".py",
   "mimetype": "text/x-python",
   "name": "python",
   "nbconvert_exporter": "python",
   "pygments_lexer": "ipython3",
   "version": "3.7.6"
  }
 },
 "nbformat": 4,
 "nbformat_minor": 4
}
