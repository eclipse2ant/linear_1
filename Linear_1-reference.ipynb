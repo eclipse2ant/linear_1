{
 "cells": [
  {
   "cell_type": "markdown",
   "metadata": {},
   "source": [
    "# 参考文献"
   ]
  },
  {
   "cell_type": "markdown",
   "metadata": {},
   "source": [
    "## 参考にしている本"
   ]
  },
  {
   "cell_type": "markdown",
   "metadata": {},
   "source": [
    "#### 線形代数および数学の本"
   ]
  },
  {
   "cell_type": "markdown",
   "metadata": {},
   "source": [
    "- [線型代数学(新装版) (数学選書)佐武一郎著](https://www.amazon.co.jp/%E7%B7%9A%E5%9E%8B%E4%BB%A3%E6%95%B0%E5%AD%A6-%E6%96%B0%E8%A3%85%E7%89%88-%E6%95%B0%E5%AD%A6%E9%81%B8%E6%9B%B8-%E4%BD%90%E6%AD%A6-%E4%B8%80%E9%83%8E/dp/4785313161/ref=sr_1_3?__mk_ja_JP=%E3%82%AB%E3%82%BF%E3%82%AB%E3%83%8A&dchild=1&keywords=%E7%B7%9A%E5%BD%A2%E4%BB%A3%E6%95%B0%E5%AD%A6&qid=1601732185&sr=8-3)　　線形代数の名著といわれる本です、ただし線形空間の定義をこの本で探すのは至難の業です。"
   ]
  },
  {
   "cell_type": "markdown",
   "metadata": {},
   "source": [
    "-  [線形代数の世界―抽象数学の入り口 (大学数学の入門) 斎藤　毅著](https://www.amazon.co.jp/%E7%B7%9A%E5%BD%A2%E4%BB%A3%E6%95%B0%E3%81%AE%E4%B8%96%E7%95%8C%E2%80%95%E6%8A%BD%E8%B1%A1%E6%95%B0%E5%AD%A6%E3%81%AE%E5%85%A5%E3%82%8A%E5%8F%A3-%E5%A4%A7%E5%AD%A6%E6%95%B0%E5%AD%A6%E3%81%AE%E5%85%A5%E9%96%80-%E6%96%8E%E8%97%A4-%E6%AF%85/dp/4130629573/ref=sr_1_3?__mk_ja_JP=%E3%82%AB%E3%82%BF%E3%82%AB%E3%83%8A&dchild=1&keywords=%E7%B7%9A%E5%BD%A2%E4%BB%A3%E6%95%B0+%E6%96%8E%E8%97%A4&qid=1601732588&sr=8-3)　　現代的な書き方がされていてとても読みやすい本です。"
   ]
  },
  {
   "cell_type": "markdown",
   "metadata": {},
   "source": [
    "- [代数入門: 群と加群 (数学シリーズ) 堀田 良之著](https://www.amazon.co.jp/%E4%BB%A3%E6%95%B0%E5%85%A5%E9%96%80%E2%80%95%E7%BE%A4%E3%81%A8%E5%8A%A0%E7%BE%A4-%E6%95%B0%E5%AD%A6%E3%82%B7%E3%83%AA%E3%83%BC%E3%82%BA-%E5%A0%80%E7%94%B0-%E8%89%AF%E4%B9%8B/dp/4785314028/ref=sr_1_1?__mk_ja_JP=%E3%82%AB%E3%82%BF%E3%82%AB%E3%83%8A&crid=2XP1TXNJLES5C&dchild=1&keywords=%E4%BB%A3%E6%95%B0%E5%85%A5%E9%96%80+%E7%BE%A4%E3%81%A8%E5%8A%A0%E7%BE%A4&qid=1601732830&sprefix=%E4%BB%A3%E6%95%B0%E5%85%A5%E9%96%80%E3%80%80%2Caps%2C266&sr=8-1)"
   ]
  },
  {
   "cell_type": "markdown",
   "metadata": {},
   "source": [
    "- [リー群の話 (日評数学選書) 佐武 一郎著](https://www.amazon.co.jp/%E3%83%AA%E3%83%BC%E7%BE%A4%E3%81%AE%E8%A9%B1-%E6%97%A5%E8%A9%95%E6%95%B0%E5%AD%A6%E9%81%B8%E6%9B%B8-%E4%BD%90%E6%AD%A6-%E4%B8%80%E9%83%8E/dp/4535601100/ref=sr_1_1?__mk_ja_JP=%E3%82%AB%E3%82%BF%E3%82%AB%E3%83%8A&crid=11V9LQDM8Q1QA&dchild=1&keywords=%E3%83%AA%E3%83%BC%E7%BE%A4%E3%81%AE%E8%A9%B1&qid=1601733059&sprefix=%E3%83%AA%E3%83%BC%E7%BE%A4%E3%81%AE%2Caps%2C258&sr=8-1)  テンソルや双対空間の解説がやさしい"
   ]
  },
  {
   "cell_type": "markdown",
   "metadata": {},
   "source": [
    "- [Pythonで学ぶ線形代数学](https://www.amazon.co.jp/Python%E3%81%A7%E5%AD%A6%E3%81%B6%E7%B7%9A%E5%BD%A2%E4%BB%A3%E6%95%B0%E5%AD%A6-%E5%A1%9A%E7%94%B0-%E7%9C%9F/dp/427422533X/ref=sr_1_1?__mk_ja_JP=%E3%82%AB%E3%82%BF%E3%82%AB%E3%83%8A&dchild=1&keywords=Python%E3%81%A7%E5%AD%A6%E3%81%B6%E7%B7%9A%E5%BD%A2%E4%BB%A3%E6%95%B0&qid=1601733348&sr=8-1)  Jupyter notebook を使い、Pythonで実際にいろんな例を計算しながら学ぶ本です。"
   ]
  },
  {
   "cell_type": "markdown",
   "metadata": {},
   "source": [
    "- [集合と位相 (大学数学の入門) 斎藤 毅著](https://www.amazon.co.jp/s?k=%E9%9B%86%E5%90%88%E3%81%A8%E4%BD%8D%E7%9B%B8+%E6%96%8E%E8%97%A4&__mk_ja_JP=%E3%82%AB%E3%82%BF%E3%82%AB%E3%83%8A&ref=nb_sb_noss_2)  　位相空間の本です。数論幾何の専門家の書いた位相空間論で代数幾何や圏論を考慮に入れた書き型をしている本です。"
   ]
  },
  {
   "cell_type": "code",
   "execution_count": null,
   "metadata": {},
   "outputs": [],
   "source": []
  }
 ],
 "metadata": {
  "kernelspec": {
   "display_name": "Python 3",
   "language": "python",
   "name": "python3"
  },
  "language_info": {
   "codemirror_mode": {
    "name": "ipython",
    "version": 3
   },
   "file_extension": ".py",
   "mimetype": "text/x-python",
   "name": "python",
   "nbconvert_exporter": "python",
   "pygments_lexer": "ipython3",
   "version": "3.7.6"
  }
 },
 "nbformat": 4,
 "nbformat_minor": 4
}
