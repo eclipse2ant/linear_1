{
 "cells": [
  {
   "cell_type": "markdown",
   "metadata": {},
   "source": [
    "### 短完全列の分裂補題"
   ]
  },
  {
   "cell_type": "markdown",
   "metadata": {},
   "source": [
    "- 短完全列が分裂(Split) することと、直和分解を与えることは同値になります。詳しくは **Split_Categories.pdf** を見てください。"
   ]
  },
  {
   "cell_type": "markdown",
   "metadata": {},
   "source": [
    "- 第４回課題１で、有限次元線形空間 $V$は部分空間 $W$ に対して必ず $V=W \\oplus W^\\prime$ となるような部分空間 $W^\\prime$ が存在することを学びました。これを使うと**Split_Categories.pdf** の定理が示せます。また**次元定理** も系として出て来ます。"
   ]
  },
  {
   "cell_type": "markdown",
   "metadata": {},
   "source": [
    "# 圏論"
   ]
  },
  {
   "cell_type": "markdown",
   "metadata": {},
   "source": [
    "- 圏（Category)とは、集合と写像の概念の一般化ないしは抽象化というべきでしょうか、集合全体からなる集まりと写像の集まりを考えた際、写像は写像の合成で積、恒等写像、積に関して結合法則が成り立ちますね。これらの関係だけを残してあとは意味を忘れ去ってしまう。そんな感じですね。詳しい定義はネット等で調べてください。"
   ]
  },
  {
   "cell_type": "markdown",
   "metadata": {},
   "source": [
    "- 一つの哲学は、集合の内部に構造を定義してその構造を調べるよりは、この構造を関係、つまりどんな射があるかを見てあげることで見てあげよう、関係概念は実体概念に先行するともいうべきでしょうか、今までも　$Ker f, \\  Coker f$ とか写像の関係で定義できる例を見ましたね。 "
   ]
  },
  {
   "cell_type": "markdown",
   "metadata": {},
   "source": [
    "- 私たちが今のところ知ってる圏としては、集合圏、　それから　線型空間が対象で射が線形写像というカテゴリー、あと位相空間が対象で射は連続写像　という圏です。"
   ]
  },
  {
   "cell_type": "markdown",
   "metadata": {},
   "source": [
    "- $\\mathcal{T}$を位相空間のなす圏  $\\mathcal{L}$を 線型空間のなす圏とするとT}位相空間の比較は実はかなり難しい、それに比べて代数的な線形空間の比較なり扱いは楽です。だから難しいものをやさしもので見てあげようとしたら  $\\mathcal{T}$ の対象$X$ に対して $F(X)$ という　$\\mathcal{L}$ の対象を対応付ける対応 $F$ を考え、さらに $F$ は、射についても、$f$ が $X$ から $Y$ への射　としたら　$F(f)$ は　$F(X)$ から $F(Y)$ への射を与え、さらに、$F(f\\cdot g)=F(f)\\cdot F(g)$ と $F(1_X)=1_{F(X)}$ を満たすとき、共変関手(Covarinat functor)  といいます。"
   ]
  },
  {
   "cell_type": "markdown",
   "metadata": {},
   "source": [
    "- 関手によって、位相空間にあった関係が線形空間の世界に伝搬したのがわかるでしょうか。例えば位相同型なものは線形同型にうつされます。この代表例が(コ)ホモロジー関手とか(コ)ホモトピー関手とかが、そうで代数的位相幾何学という分野になります。異なる構造を関連付けたり、あたらしい構造を構造で定義するのではなく射の関係によって定義したりして新しい圏を作ったりできます。"
   ]
  },
  {
   "cell_type": "markdown",
   "metadata": {},
   "source": [
    "- 圏論を敢えて出したのは理由があります。数学でも**Categorification**(圏論化）って言葉が盛んに言われてます。そして圏は数理物理でも使われてますし、近年いろんな分野でも使われています。文系の分野でも多いです。そしてもう一つはプログラミング関係です。現在のプログラミングではオブジェクト指向プログラミングはほぼ当たり前になっています。Java、Ruby　Python　C#　C++ 　JacaScript　あたりはすべてOOPです。また知識としても、ここのGoogle Form  のふるまいを理解したりするのにも、MVCパターンあたりの理解があったほうがよい。またGoogle Classroom 自体もFacadeパターンともいえます。つまり仮想的な環境であるクラウド上でAPIで動くものは実体は見かけと異なる。それの理解にOOPの知識なりデザインパターンの知識が不可欠になってきてると私は思ってます。（最近はGoやRustにも興味ありますが）"
   ]
  },
  {
   "cell_type": "markdown",
   "metadata": {},
   "source": [
    "- OOPはクラウド上では問題があります、あとOOPは並行処理に難があります。それを克服するには関数型プログラミングになっていきます。つまりHaskellとかですね。その際、絡んでくるのが圏論なのです。この辺は[Category Theory 1.1: Motivation and Philosophy](https://www.youtube.com/watch?v=I8LbkfSSR58&feature=emb_logo) という動画を見てもらえるとわかると思います。字幕に日本語も出せるので、英語が苦手でも大丈夫です。むしろこの英語はけっこう内容が幅広いので、直接聞くのは結構きつい。"
   ]
  },
  {
   "cell_type": "markdown",
   "metadata": {},
   "source": [
    "- さて、ここで　$Hom(\\ \\cdot, K)$  という関手を$\\mathcal{L}$ にとってみましょう。双対空間と双対写像をとる操作ですね。これは反変関手です。この関手は完全関手、すなわち、短完全列を短完全列に移します。これは　分裂してる短完全列の場合に、分裂した短完全列に移ることが知られていて、$\\mathcal{L}$ の場合は短完全列は必ず分裂しているために成り立ちます。"
   ]
  },
  {
   "cell_type": "markdown",
   "metadata": {},
   "source": [
    "- このことから  $\\hspace{1cm} (Ker \\ f)^{*} = Coker \\ f^*$, $\\ (Coker \\ f)^* = Ker f^*$"
   ]
  },
  {
   "cell_type": "markdown",
   "metadata": {},
   "source": [
    "$\\hspace{2cm}$また $\\hspace{1.3cm}(Im \\ f)^* = Coim \\ f^*$, $\\hspace{.7cm}(Coim \\ f)^* = Im \\ f^*$"
   ]
  },
  {
   "cell_type": "markdown",
   "metadata": {},
   "source": [
    "- つまり $*$ がつくと、Co　がついたりとれたりする。双対写像ともとの写像の単射と全射が入れ替わることもここからでも証明できます。"
   ]
  },
  {
   "cell_type": "markdown",
   "metadata": {},
   "source": [
    "- Ker, Coker は　矢印の向きが入れ替わったものだといいましたが、実際、$Hom(\\ \\cdot, K)$ つまり$*$ は反変関手で矢印の向きを変えますから、ここか"
   ]
  }
 ],
 "metadata": {
  "kernelspec": {
   "display_name": "Python 3",
   "language": "python",
   "name": "python3"
  },
  "language_info": {
   "codemirror_mode": {
    "name": "ipython",
    "version": 3
   },
   "file_extension": ".py",
   "mimetype": "text/x-python",
   "name": "python",
   "nbconvert_exporter": "python",
   "pygments_lexer": "ipython3",
   "version": "3.7.6"
  }
 },
 "nbformat": 4,
 "nbformat_minor": 4
}
