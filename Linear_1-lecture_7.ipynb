{
 "cells": [
  {
   "cell_type": "markdown",
   "metadata": {},
   "source": [
    "# 直積、直和"
   ]
  },
  {
   "cell_type": "markdown",
   "metadata": {},
   "source": [
    "- そろそろ具体的な話に入りたいのですが、もう少し抽象的なことを言わないといけません。直積と直和です。\n",
    "Product_coproduct_and_dulality.pdf にいろいろ書きましたので、そちらを見てください。"
   ]
  },
  {
   "cell_type": "markdown",
   "metadata": {},
   "source": [
    "# 双対性"
   ]
  },
  {
   "cell_type": "markdown",
   "metadata": {},
   "source": [
    "- 双対性は鏡の世界、鏡で右と左が逆になっています。このように何らかの関係が逆になってるような世界が対になってるような状況を考えます。いちばんおいしい使い方は、ある関係が逆になってることで現実では難しいことが鏡の世界では簡単になってること、鏡の世界で解いて、それをもう一回鏡に映せば現実でその難問が解けるというからくり、**Duality　principle（双対原理）** とか言います。サイバーグ・ウィッテン理論とかミラー対称性とか物理や数学の問題でよく使われています。例えば、フーリエ変換もそうで、定数係数の微分作用素と多項式をフーリエ変換は入れ替えます。だから定数係数の微分方程式は代数方程式にきちゃくできます。また関数の叩き込みはフーリエ変換で普通の関数の積と入れ替わります。これをうまく使ってるのが、ディープ・ラーニングの叩き込み層です。画像認識とかで使われてますよね。"
   ]
  },
  {
   "cell_type": "markdown",
   "metadata": {},
   "source": [
    "- 今のところ、二つの双対性をみてきています。一つ圏論で矢印を向きを反対にすることで得られる対、これによって例えば直積と直和が双対な概念とわかります。また$Hom(\\ \\cdot \\ ,\\ K)$ という関手を施してえられる双対性、例えば双対写像ですね。$Ker$ と $Coker$ が入れ替わったし、またこれらは、最初の圏論の矢印の意味でも双対でした。"
   ]
  },
  {
   "cell_type": "markdown",
   "metadata": {},
   "source": [
    "# 有限次元線形空間へ"
   ]
  },
  {
   "cell_type": "markdown",
   "metadata": {},
   "source": [
    "- さて有限次元性を仮定しましょう。ぐっと具体的になります。線形数学概論と関係が出て来ます。そう行列が関わってきます。"
   ]
  },
  {
   "cell_type": "markdown",
   "metadata": {},
   "source": [
    "- まず、有限次元だと基底が存在するわけですね、さて一つの線型空間$V$  の基底はどれだけあるのでしょうか？　調べてください。また線形写像の表現行列について、調べてください。"
   ]
  },
  {
   "cell_type": "code",
   "execution_count": null,
   "metadata": {},
   "outputs": [],
   "source": []
  }
 ],
 "metadata": {
  "kernelspec": {
   "display_name": "Python 3",
   "language": "python",
   "name": "python3"
  },
  "language_info": {
   "codemirror_mode": {
    "name": "ipython",
    "version": 3
   },
   "file_extension": ".py",
   "mimetype": "text/x-python",
   "name": "python",
   "nbconvert_exporter": "python",
   "pygments_lexer": "ipython3",
   "version": "3.7.6"
  }
 },
 "nbformat": 4,
 "nbformat_minor": 4
}
