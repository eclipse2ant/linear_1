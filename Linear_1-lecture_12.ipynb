{
  "cells": [
    {
      "cell_type": "markdown",
      "metadata": {
        "id": "view-in-github",
        "colab_type": "text"
      },
      "source": [
        "<a href=\"https://colab.research.google.com/github/eclipse2ant/linear_1/blob/master/Linear_1-lecture_12.ipynb\" target=\"_parent\"><img src=\"https://colab.research.google.com/assets/colab-badge.svg\" alt=\"Open In Colab\"/></a>"
      ]
    },
    {
      "cell_type": "markdown",
      "metadata": {
        "id": "GI-5OUv5fzhA"
      },
      "source": [
        "# テンソル積"
      ]
    },
    {
      "cell_type": "markdown",
      "metadata": {
        "id": "yf7gx6pjfzhB"
      },
      "source": [
        "- ここでは　テンソル積  $\\otimes$ について学びます。　$v \\in V, w \\in W$ において $v\\otimes w$ は $V\\otimes W$ という線形空間の元です。テンソル積は　$(v_1+v_2)\\otimes w = v_1\\otimes w + v_2\\otimes w$, $\\hspace{.3cm}cv\\otimes w = v\\otimes cw = c(v\\otimes w) \\hspace{.4cm} (c \\in K)$"
      ]
    },
    {
      "cell_type": "markdown",
      "metadata": {
        "id": "jzRoz_iqfzhB"
      },
      "source": [
        "- $w$ に対しても同様のことが成り立ちます。$V\\otimes W$ は　$v\\otimes w$ の一次結合で表される元の集合になります。具体的な定義はあとで、行いますが、何がこれでおいしいのかというと、今までのいろいろなものがテンソル積を使って表されるからです。例えば、$Hom(V,W)\\simeq V^* \\otimes W$"
      ]
    },
    {
      "cell_type": "markdown",
      "metadata": {
        "id": "blHm8CxzfzhC"
      },
      "source": [
        "- 一つ注意してほしいのは、テンソル積という概念は非常に普遍的な概念で、線形空間だけにとどまらず加群、代数、環論ないしは圏論、モノイド圏(monoidal category)とか関わってきます。またある意味、Homと双対というか、随伴な関係にあります。これはプログラム言語でHaskellなどの関数型言語でカリー化って言葉を聞くと思いますが、これと関係します。また線形代数でならでは成り立つ話もありますし、特に物理でテンソルやスピノルといってる時などはそうですし、また機械学習でディープラーニングで有名なTensorflow　って　やはりテンソル積がらみですね。"
      ]
    },
    {
      "cell_type": "markdown",
      "metadata": {
        "id": "9MwfMW4RfzhC"
      },
      "source": [
        "- 他にもいろいろあります。代数幾何でもテンソル積は重要です。そこには幾何的意味も出て来ます。"
      ]
    },
    {
      "cell_type": "markdown",
      "metadata": {
        "id": "jXH4XkO2fzhC"
      },
      "source": [
        "- すべては言えませんが、まず基本的な定義から始めます。これはかなり抽象的です。"
      ]
    },
    {
      "cell_type": "markdown",
      "metadata": {
        "id": "np1K9Rj5fzhC"
      },
      "source": [
        "- 抽象的ですが定義は**Tesor prodcuct.pdf** で与えてます。ここでも、**Universality** を使ってます。この定義が避けられないのは、そこで出てくくる線形写像 $t$ がいろんな場で表れるからです。これのもとになるのは、Tensor-1からTensor-3のjpegファイルに書かれてる内容です。もっと一般的状況で書かれてます。ここで命題18.2 (少し変形が必要ですが）と(18.3) を使うと、**Tesor prodcuct.pdf**　のLemma　が証明できます。"
      ]
    },
    {
      "cell_type": "markdown",
      "metadata": {
        "id": "-kttLuiCfzhC"
      },
      "source": [
        "- もう一つ特筆すべきことは、命題18.6 です。線形空間の場合は(18.7) になってます。これは、もっと先ではTorという導来関手が消えてる（ゼロになる）という事実になります。一般には０ではないですが、線形空間は短完全列がすべて分裂するためです。　Homから作られる導来関手でExtというのがあります。これらはホモロジー代数で学びます。"
      ]
    },
    {
      "cell_type": "code",
      "execution_count": null,
      "metadata": {
        "id": "PaCB8rL4fzhC"
      },
      "outputs": [],
      "source": []
    }
  ],
  "metadata": {
    "kernelspec": {
      "display_name": "Python 3",
      "language": "python",
      "name": "python3"
    },
    "language_info": {
      "codemirror_mode": {
        "name": "ipython",
        "version": 3
      },
      "file_extension": ".py",
      "mimetype": "text/x-python",
      "name": "python",
      "nbconvert_exporter": "python",
      "pygments_lexer": "ipython3",
      "version": "3.7.6"
    },
    "colab": {
      "provenance": [],
      "include_colab_link": true
    }
  },
  "nbformat": 4,
  "nbformat_minor": 0
}