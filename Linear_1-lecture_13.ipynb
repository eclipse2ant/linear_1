{
 "cells": [
  {
   "cell_type": "markdown",
   "metadata": {},
   "source": [
    "# 交代形式、ウェッジ積"
   ]
  },
  {
   "cell_type": "markdown",
   "metadata": {},
   "source": [
    "- 前回テンソル積について学びました。ここで [ブラックホールと時空の方程式:15歳からの一般相対論](https://www.amazon.co.jp/%E3%83%96%E3%83%A9%E3%83%83%E3%82%AF%E3%83%9B%E3%83%BC%E3%83%AB%E3%81%A8%E6%99%82%E7%A9%BA%E3%81%AE%E6%96%B9%E7%A8%8B%E5%BC%8F-15%E6%AD%B3%E3%81%8B%E3%82%89%E3%81%AE%E4%B8%80%E8%88%AC%E7%9B%B8%E5%AF%BE%E8%AB%96-%E5%B0%8F%E6%9E%97-%E6%99%8B%E5%B9%B3/dp/4627156219/ref=sr_1_1?adgrpid=56259156954&dchild=1&gclid=Cj0KCQiA6Or_BRC_ARIsAPzuer-c7K0_Gv-m-PBpxUFz2Kq7kwmktegrU0KZXIi0LyQdl02IqJscqTcaAr8dEALw_wcB&hvadid=338530195656&hvdev=c&hvlocphy=1009726&hvnetw=g&hvqmt=e&hvrand=2577203281946037710&hvtargid=kwd-646046653887&hydadcr=27707_11559594&jp-ad-ap=0&keywords=%E3%83%96%E3%83%A9%E3%83%83%E3%82%AF%E3%83%9B%E3%83%BC%E3%83%AB%E3%81%A8%E6%99%82%E7%A9%BA%E3%81%AE%E6%96%B9%E7%A8%8B%E5%BC%8F&qid=1610326404&sr=8-1&tag=googhydr-22) という本を紹介しておきます。15歳からって書いてある通り、微分についても説明してあり、丁寧ではあります。ここで、テンソルが出て来ます。ベクトルの基底の変換に伴う成分の変換則とその双対空間の基底に伴う成分の変換則を思い出してください。普通のベクトルの従う変換則に従う成分表示を $c^i$ 双対空間のベクトルの双対空間の変換則に従う成分表示を $c_j$ で表し。前者を**反変ベクトル**、後者を**共変ベクトル**といいます。\n"
   ]
  },
  {
   "cell_type": "markdown",
   "metadata": {},
   "source": [
    "- 例えば行列は　$a^i_j$ です。$f:V\\longrightarrow W$ が線形写像とすると　これは　$W \\otimes V^*$ の元でした。$V$ のインデックスが$j$ これは共変です。そして$W$ に関しての成分が$i$ で反変です。だから 一次変換は　例えば、$a^i_jc^j$ ここで　$\\Sigma$ は煩雑なので上下に同じインデクスの文字が現れたら和をとってるとして $\\Sigma$ を省略するのが物理の記法ですね。数学ではあまりやりません。これがいわゆるアンシュタイン規約です。"
   ]
  },
  {
   "cell_type": "markdown",
   "metadata": {},
   "source": [
    "- もっと一般にインデクスが増えたものが一般のテンソルです。数学ではあまり使うわない書き方ですが、物理ではかなり出て来ます。それとインデクスを入れ替えたら符号が出る交代テンソルというのがあります。これは　同じものをテンソル積とってるわけですが、テンソル積と双線型形式や多重線型形式が対応してることを思い出してもらうと、これは交代形式に対応します。"
   ]
  },
  {
   "cell_type": "markdown",
   "metadata": {},
   "source": [
    "- 前回のテンソル積の定義でさらに交代性を課して、定義した場合が wedge product (ウェッジ積）、exterior productです。$\\bigwedge$ で表します。"
   ]
  },
  {
   "cell_type": "markdown",
   "metadata": {},
   "source": [
    "- ここからは、**Wedge_product.jpeg** を見てもらいますが。特に重要な点は、行列式が関係すること、および行列式のいろんな性質が簡単に証明できるということです。尚、細かい定義などは、webなどでいろいろ調べてください。  "
   ]
  },
  {
   "cell_type": "markdown",
   "metadata": {},
   "source": []
  }
 ],
 "metadata": {
  "kernelspec": {
   "display_name": "Python 3",
   "language": "python",
   "name": "python3"
  },
  "language_info": {
   "codemirror_mode": {
    "name": "ipython",
    "version": 3
   },
   "file_extension": ".py",
   "mimetype": "text/x-python",
   "name": "python",
   "nbconvert_exporter": "python",
   "pygments_lexer": "ipython3",
   "version": "3.7.6"
  }
 },
 "nbformat": 4,
 "nbformat_minor": 4
}
