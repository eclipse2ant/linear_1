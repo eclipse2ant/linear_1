{
 "cells": [
  {
   "cell_type": "markdown",
   "metadata": {},
   "source": [
    "## 部分空間"
   ]
  },
  {
   "cell_type": "markdown",
   "metadata": {},
   "source": [
    "- 体K上の線形空間Vの部分空間Wとは　Vの空でない部分集合で\n",
    "\n",
    "    1. x,y がWの元　ならば　　x+y も　Wの元\n",
    "    2. xがVの元、ｋがKの元　ならば　kx もWの元\n",
    "\n",
    "なるときをいいます。"
   ]
  },
  {
   "cell_type": "markdown",
   "metadata": {},
   "source": [
    "- 生成される部分空間について調べてください。"
   ]
  },
  {
   "cell_type": "markdown",
   "metadata": {},
   "source": [
    "- 数ベクトル空間において部分空間をすべて決定してみてください"
   ]
  },
  {
   "cell_type": "markdown",
   "metadata": {},
   "source": [
    "- 部分空間どうしの共通部分、あるいは和集合はまた部分空間になるでしょうか？"
   ]
  },
  {
   "cell_type": "markdown",
   "metadata": {},
   "source": [
    "- レポート課題に生成された部分空間の定義について、書いてありますの課題を行うとき、参考にしてください。"
   ]
  },
  {
   "cell_type": "markdown",
   "metadata": {},
   "source": [
    "- 部分空間上に和とスカラー倍の写像を制限すれば、部分空間自体は制限された写像を和とスカラー倍として線形空間になることに注意してください。"
   ]
  },
  {
   "cell_type": "markdown",
   "metadata": {},
   "source": [
    "## 1次独立、基底"
   ]
  },
  {
   "cell_type": "markdown",
   "metadata": {},
   "source": [
    "- １次独立（線形独立）の定義と基底の定義を調べてください。"
   ]
  },
  {
   "cell_type": "markdown",
   "metadata": {},
   "source": [
    "- １次独立を生成される部分空間の言葉で翻訳できます\n",
    "\n",
    "　　　ｘ, x_1,....x_n が一次独立　＜＝＞　　ｘが<x_1,...x_n>  に属さない\n",
    "   \n",
    "   です。このとき証明において、Kが体であることを使っていること、つまり０以外の元が積に関して必ず逆元をもつことを使ってることに注意してください。\n",
    "\n",
    "\n"
   ]
  },
  {
   "cell_type": "markdown",
   "metadata": {},
   "source": [
    "- さて、Vを体K上の線形空間とします。この時、いつでも基底は存在するでしょうか？。実際いつでも存在すると限りません。基底が存在するとき、Vを有限次元線形空間といいます。"
   ]
  },
  {
   "cell_type": "markdown",
   "metadata": {},
   "source": [
    "- ここで、線形代数で最も面倒な定理の話をします。Vを有限次元線形空間とし、x_1,...,x_s  を基底とします。このとき、もう一つVの基底 y_1,...,y_t  をとってくると　s=t が成り立ちます。　つまり基底を構成する元の数は一定なのです。この数をVの次元といい、dim V  で表します。"
   ]
  },
  {
   "cell_type": "markdown",
   "metadata": {},
   "source": [
    "- この証明は、今でも証明できますが、今は課題としません、もう少し線形代数の全体像を学んでからの方が、証明の重要性がわかると思うからです。大事なことは、一般の体では数ベクトル空間　K^n でも　実際は幾何学的イメージはつけられません。例えばKが複素数の時、**C^2** は平面ベクトルとはとても言えませんよね。（実際　実４次元ですし）"
   ]
  },
  {
   "cell_type": "markdown",
   "metadata": {},
   "source": [
    "- もう一点注意して欲しいのは、WがVの本当に小さな部分空間のときでも、dim W < dim V は証明が必要です。決して自明ではないことに注意してください。"
   ]
  },
  {
   "cell_type": "markdown",
   "metadata": {},
   "source": [
    "- $v_1,\\cdots ,v_n$ を $V$ の基底とするとき、任意の $V$ の元 $v$ に対して $v=c_1v_1+c_2v_2+\\cdots +c_nv_v,   \\ (c_i \\in K)$ と一意的に書けることに注意してください。"
   ]
  },
  {
   "cell_type": "code",
   "execution_count": null,
   "metadata": {},
   "outputs": [],
   "source": []
  }
 ],
 "metadata": {
  "kernelspec": {
   "display_name": "Python 3",
   "language": "python",
   "name": "python3"
  },
  "language_info": {
   "codemirror_mode": {
    "name": "ipython",
    "version": 3
   },
   "file_extension": ".py",
   "mimetype": "text/x-python",
   "name": "python",
   "nbconvert_exporter": "python",
   "pygments_lexer": "ipython3",
   "version": "3.7.6"
  }
 },
 "nbformat": 4,
 "nbformat_minor": 4
}
