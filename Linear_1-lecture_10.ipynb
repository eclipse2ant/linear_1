{
 "cells": [
  {
   "cell_type": "markdown",
   "metadata": {},
   "source": [
    "# 双対基底、双対空間の再帰性、微分形式"
   ]
  },
  {
   "cell_type": "markdown",
   "metadata": {},
   "source": [
    "### 双対基底"
   ]
  },
  {
   "cell_type": "markdown",
   "metadata": {},
   "source": [
    "- 有限次元の場合には、双対空間にも単純化が起こります。有限次元では線形空間に基底がありますからそれの双対である双対基底が定義できます。双対基底の定義については、**Dual_basis.pdf** を見てください。そこにいろいろな性質を書きました。重要なことは、元の空間と次元は同じ、それから線形写像の双対写像の表現行列は元の表現行列の転置になることに注意してください。また基底の変換則も要注意です。"
   ]
  },
  {
   "cell_type": "markdown",
   "metadata": {},
   "source": [
    "### 再帰性"
   ]
  },
  {
   "cell_type": "markdown",
   "metadata": {},
   "source": [
    "- 双対空間の双対空間は元の空間と同じになるというのが**再帰性**です。正確なステートメントは**Dual_basis.pdf** を見てください。これは有限次元でないと成り立ちません。成り立たないことを無限次元の場合は積極に使ってるのが**超関数**です。"
   ]
  },
  {
   "cell_type": "markdown",
   "metadata": {},
   "source": [
    "### 微分形式"
   ]
  },
  {
   "cell_type": "markdown",
   "metadata": {},
   "source": [
    "- 双対空間や双対基底が使われる重要な例として、微分形式について触れておきましょう。微分形式をつかうと、微積分で習う、多変数の**全微分** の式を意味づけできます。また$dx$ の意味づけもできます。"
   ]
  },
  {
   "cell_type": "markdown",
   "metadata": {},
   "source": [
    "- まず $f: {\\mathbb R}  \\longrightarrow {\\mathbb R}$ が微分可能であるとき、$x_0$での微分について考えてみよう。微分とは、$(x_0,f(x_0))$ で接線を引くことです。この傾きが微分係数です。　**Tangent_spaces_and_differential_forms.pdf**　の(a) を見てください。その接線とは、線形写像で、微分とは線形写像で近似することです。これを(b)のように描き直してみましょう。(b)におけるピンクの線は、$x_0, f(x_0)$ のそれぞれの点で${\\mathbb R}$を新たに設けてそこで(a)においての1次関数（つまり線形写像）を描いてます。このピンクの線はそれぞれの点における ${\\mathbb R}$ の **接空間** といい、それぞれ $T_{x_0}({\\mathbb R}),\\  T_{f(x_0)}({\\mathbb R})$ と表します。"
   ]
  },
  {
   "cell_type": "markdown",
   "metadata": {},
   "source": [
    "- $f: {\\mathbb R}^2  \\longrightarrow {\\mathbb R}^2$  のときを考えてみましょう。(c) でのピンクの線は、それぞれ ${\\mathbb R}^2$ になります。 ${\\mathbb R}^2$  の $x_0$ での接空間ですからね。\n",
    "ピンクの線は、$x_0, f(x_0)$ のそれぞれの点での **ファイバー(fiber)** といいます。$f$ の点 $x_0$ での微分とは、$x_0$ 上のファイバー $T_{x_0}({\\mathbb R}^2)$ から $f(x_0)$ 上のファイバー $T_{f(x_0)}({\\mathbb R}^2)$ への線形写像で行列は、$f$ の **ヤコビ行列** で与えられます。"
   ]
  },
  {
   "cell_type": "markdown",
   "metadata": {},
   "source": [
    "- ここで接空間の元は$x_0$ における偏微分（ほかの変数を止めて一つの変数に関してだけ微分する操作）をおこなう、へ微分作用素 $\\frac{\\partial}{\\partial x^1},\\  \\frac{\\partial}{\\partial x^2}$ の一次結語で表されます。これは(d) のように、球面から球面からの微分写像を考える際、接空間から接空間への線形写像として定義しますが、その際、接空間を考えてみると、**方向微分** で接空間を考えるのが自然なのが分かると思います。なお球面で微分を言う話は多様体論の話になります。"
   ]
  },
  {
   "cell_type": "markdown",
   "metadata": {},
   "source": [
    "- さて(e) の場合　 $f: {\\mathbb R}^2  \\longrightarrow {\\mathbb R}$ の場合そこに書いてあるように、双対空間と双対基底を使えば、全微分の意味づけ、微分形式の話ができます。"
   ]
  },
  {
   "cell_type": "code",
   "execution_count": null,
   "metadata": {},
   "outputs": [],
   "source": []
  }
 ],
 "metadata": {
  "kernelspec": {
   "display_name": "Python 3",
   "language": "python",
   "name": "python3"
  },
  "language_info": {
   "codemirror_mode": {
    "name": "ipython",
    "version": 3
   },
   "file_extension": ".py",
   "mimetype": "text/x-python",
   "name": "python",
   "nbconvert_exporter": "python",
   "pygments_lexer": "ipython3",
   "version": "3.7.6"
  }
 },
 "nbformat": 4,
 "nbformat_minor": 4
}
