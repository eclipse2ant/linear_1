{
 "cells": [
  {
   "cell_type": "markdown",
   "metadata": {},
   "source": [
    "# 双線型形式、多重線型形式"
   ]
  },
  {
   "cell_type": "markdown",
   "metadata": {},
   "source": [
    "- これについては、**bilinear_forms_and multilinear_forms.jpeg** を見てください。"
   ]
  },
  {
   "cell_type": "markdown",
   "metadata": {},
   "source": [
    "# 対称性"
   ]
  },
  {
   "cell_type": "markdown",
   "metadata": {},
   "source": [
    "- 基底の取り換えは、線型写像の表現行列を変化させます。前にやったように基底の取り換えは正則行列で置き換えられます。正則行列は行列の積に関して群を成しますから、$GL(n,\\mathbb{R})$ は群として表現行列に作用します。その際、その作用で変化しないもの、それを群の対称性といいます。作用のさせかたにもよりますが、階数（Rank)、行列式とかが一例です。そこで、せっかくオンラインで授業してるのですかっら、普通の授業ではできないことをやりましょう。frenkel_2.mp4 を見てください。今回はこれで対称性についていろいろ学んでください。"
   ]
  },
  {
   "cell_type": "code",
   "execution_count": null,
   "metadata": {},
   "outputs": [],
   "source": []
  },
  {
   "cell_type": "code",
   "execution_count": null,
   "metadata": {},
   "outputs": [],
   "source": []
  },
  {
   "cell_type": "code",
   "execution_count": null,
   "metadata": {},
   "outputs": [],
   "source": []
  }
 ],
 "metadata": {
  "kernelspec": {
   "display_name": "Python 3",
   "language": "python",
   "name": "python3"
  },
  "language_info": {
   "codemirror_mode": {
    "name": "ipython",
    "version": 3
   },
   "file_extension": ".py",
   "mimetype": "text/x-python",
   "name": "python",
   "nbconvert_exporter": "python",
   "pygments_lexer": "ipython3",
   "version": "3.7.6"
  }
 },
 "nbformat": 4,
 "nbformat_minor": 4
}
