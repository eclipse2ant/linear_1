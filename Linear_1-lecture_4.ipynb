{
 "cells": [
  {
   "cell_type": "markdown",
   "metadata": {},
   "source": [
    "#  直和について"
   ]
  },
  {
   "cell_type": "markdown",
   "metadata": {},
   "source": [
    "- $V, W$ を $K$ 上の線形空間とするとき、積 $V\\times W = \\{(x,y)\\mid x \\in V,y \\in W \\}$ は成分ごとの加法 $(x,y)+(x^{\\prime},y^{\\prime})=(x+x^{\\prime}, y+y^{\\prime})$ とスカラー倍 $a(x,y)=(ax,ay)$ により、＄K＄ 上の線形空間になる。これを $V$ と $W$ の **直和 (direct sum)**  とよび、$V \\oplus W$ と表す。"
   ]
  },
  {
   "cell_type": "markdown",
   "metadata": {},
   "source": [
    "直和は何通りか意味があります。実際は圏論の直和の意味ですべて同じものなのですが、具体的な形は様々で、その具体形も重要なので、個別に扱うわけです。最初は混乱するかもしれませんが、のちに圏論について触れますので、そこですっきりすると思います。"
   ]
  },
  {
   "cell_type": "markdown",
   "metadata": {},
   "source": [
    "- 今度は**部分空間**としての**直和**についてみていきましょう。まず、$V$ を $K$ 上の線形空間とし、$W,W^\\prime $ を $V$ の部分空間とすると、$W+W^\\prime = \\{ x+x\\prime \\mid x \\in W, x^\\prime \\in W^\\prime \\}$ は $V$ の部分空間となり、$W$ と $W^\\prime$ の **和** といいます。特に $W \\cap W^\\prime = 0$  のとき、$W\\oplus W^\\prime$ と表わし、$W$ と $W^\\prime$　との**部分空間**としての**直和** という。普通はこれも単に直和といいます。また $V=W\\oplus W^\\prime$ のとき、$V$ は　$W$ と $W^\\prime$ の直和に分解するという。"
   ]
  },
  {
   "cell_type": "markdown",
   "metadata": {},
   "source": [
    "# 線形写像"
   ]
  },
  {
   "cell_type": "markdown",
   "metadata": {},
   "source": [
    "- いよいよ線形写像です。まず線形写像の定義を調べてください。要は和とスカラー倍を伝番させる写像ということがわかると思います。このために線形空間は和とスカラー倍が必要だったといっていいくらいです。基底を使って線形写像を表示させるとわかるのですが、**比例** の多次元版が **線形性** です"
   ]
  },
  {
   "cell_type": "markdown",
   "metadata": {},
   "source": [
    "- 実はここで大きく二つの道があります。一つは基底を使って、具体的にやる部分です。こちらは **線形数学 II** にもつながりますし、また線形数学概論の行列の話と繋がっていきます。線形数学概論で行列をいろいろこねくり回して計算したと思いますが、それら何をしているのか、概念的、あるいは幾何学的（構造主義的あるいは圏論的に）説明を与えることになると思います。でもそのためには、そうやって解釈したものを、具体的に操作できないといけない、そのためのに行うべきもう一つの道、ある意味では **加群** のときにも通じる抽象的な扱いが必要になってきます。最初は後者の抽象論をやっていきます。"
   ]
  },
  {
   "cell_type": "markdown",
   "metadata": {},
   "source": [
    "- 体 $K$ 上の線形空間 $V_1, V_2$ に対し　線型写像 $f:V_1 \\longrightarrow V_2$ が与えられるとき、$f$ の核と像、$Ker \\ f, \\ Im \\ f$ を調べてください。これらは、それぞれ　$V_1, V_2$ の部分空間になります。さらに\n",
    "    1.  $\\quad Ker \\ f=0 \\quad  \\Longleftrightarrow  \\quad f$  　 は単射 \n",
    "    2.  $\\quad Im  \\ f =V \\quad  \\Longleftrightarrow  \\quad f$   　は全射"
   ]
  },
  {
   "cell_type": "markdown",
   "metadata": {},
   "source": [
    "- さらに、$Coker \\ f= V / Im \\ f$  とすると　\n",
    "    3.  $\\quad Coker \\ f=0 \\quad  \\Longleftrightarrow  \\quad f$   　は全射\n",
    "\n",
    "    となります。ここで　$V / Im \\ f$   は、　$V$ の　$Im \\ f$ による商空間です。（商空間について、調べてください）"
   ]
  },
  {
   "cell_type": "code",
   "execution_count": null,
   "metadata": {},
   "outputs": [],
   "source": []
  },
  {
   "cell_type": "code",
   "execution_count": null,
   "metadata": {},
   "outputs": [],
   "source": []
  }
 ],
 "metadata": {
  "kernelspec": {
   "display_name": "Python 3",
   "language": "python",
   "name": "python3"
  },
  "language_info": {
   "codemirror_mode": {
    "name": "ipython",
    "version": 3
   },
   "file_extension": ".py",
   "mimetype": "text/x-python",
   "name": "python",
   "nbconvert_exporter": "python",
   "pygments_lexer": "ipython3",
   "version": "3.7.6"
  }
 },
 "nbformat": 4,
 "nbformat_minor": 4
}
