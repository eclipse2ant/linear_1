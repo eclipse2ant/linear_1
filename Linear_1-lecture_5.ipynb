{
 "cells": [
  {
   "cell_type": "markdown",
   "metadata": {},
   "source": [
    "# 完全系列、準同型定理"
   ]
  },
  {
   "cell_type": "markdown",
   "metadata": {},
   "source": [
    "### 完全系列"
   ]
  },
  {
   "cell_type": "markdown",
   "metadata": {},
   "source": [
    "- 完全系列については **Exact_sequences.pdf** に定義が書いてあります。また自分でもネット等でいろいろ調べてください。"
   ]
  },
  {
   "cell_type": "markdown",
   "metadata": {},
   "source": [
    "- 完全系列は非常に大切な概念です。これと**コホモロジー**や**ホモロジー**は密接にかかわってきます。"
   ]
  },
  {
   "cell_type": "markdown",
   "metadata": {},
   "source": [
    "### 準同型定理"
   ]
  },
  {
   "cell_type": "markdown",
   "metadata": {},
   "source": [
    "- Exact_sequences.pdf に書きました。$Coker \\ i \\simeq Im f$ が準同型定理（写像$i$ の定義はExact_sequences.pdf 参照）ですが、いろいろな言い方ができます。"
   ]
  },
  {
   "cell_type": "markdown",
   "metadata": {},
   "source": [
    "- Exact_sequences.pdf での準同型定理の証明はやや回りくどくなりましたが、要は $V / Ker \\ f$ は $Ker \\ f$ の違いを無視して考えるわけだから、同値類から代表元をとって $f$ で移すとき、代表元の取り方の違いは $Ker \\ f$ だけなので、$f$ で移すには関係ないわけで、 $\\bar f$ が定義される(well-defined) わけです。$\\bar f$ の全射は $f$ は、 $Im f$ へは全射で、また単射性は、すぐにわかります。まどろっしく、Exact_sequences.pdf で証明を書いたのは。他の概念との関連性を見て欲しいからでした。"
   ]
  },
  {
   "cell_type": "markdown",
   "metadata": {},
   "source": [
    "- 準同型定理の言ってる意味は、$V_1$ から %Kef \\ f$ の情報を落としたら、$Im \\ f$ と線形空間として同じになるということです。"
   ]
  },
  {
   "cell_type": "markdown",
   "metadata": {},
   "source": [
    "- 実は、線形写像に関しては、準同型定理よりもさらに強いことが成り立ちます。それは次回にしましょう。"
   ]
  },
  {
   "cell_type": "code",
   "execution_count": null,
   "metadata": {},
   "outputs": [],
   "source": []
  }
 ],
 "metadata": {
  "kernelspec": {
   "display_name": "Python 3",
   "language": "python",
   "name": "python3"
  },
  "language_info": {
   "codemirror_mode": {
    "name": "ipython",
    "version": 3
   },
   "file_extension": ".py",
   "mimetype": "text/x-python",
   "name": "python",
   "nbconvert_exporter": "python",
   "pygments_lexer": "ipython3",
   "version": "3.7.6"
  }
 },
 "nbformat": 4,
 "nbformat_minor": 4
}
